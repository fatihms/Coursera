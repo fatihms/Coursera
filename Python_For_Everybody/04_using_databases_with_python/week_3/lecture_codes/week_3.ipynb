{
 "cells": [
  {
   "cell_type": "code",
   "execution_count": 1,
   "metadata": {},
   "outputs": [],
   "source": [
    "# Representing a Data Model in Tables"
   ]
  },
  {
   "cell_type": "code",
   "execution_count": 2,
   "metadata": {},
   "outputs": [],
   "source": [
    "# CREATE TABLE Album(\n",
    "#    id INTEGER NOT NULL PRIMARY KEY AUTOINCREMENT UNIQUE,\n",
    "#    artist_id INTEGER,\n",
    "#    title TEXT\n",
    "# )"
   ]
  },
  {
   "cell_type": "code",
   "execution_count": 3,
   "metadata": {},
   "outputs": [],
   "source": [
    "# CREATE TABLE Track(\n",
    "#     id INTEGER NOT NULL PRIMARY KEY AUTOINCREMENT UNIQUE,\n",
    "#     title TEXT,\n",
    "#     album_id INTEGER,\n",
    "#     genre_id INTEGER\n",
    "#     len INTEGER, rating INTEGER, count INTEGER\n",
    "# )"
   ]
  }
 ],
 "metadata": {
  "kernelspec": {
   "display_name": "Python 3",
   "language": "python",
   "name": "python3"
  },
  "language_info": {
   "codemirror_mode": {
    "name": "ipython",
    "version": 3
   },
   "file_extension": ".py",
   "mimetype": "text/x-python",
   "name": "python",
   "nbconvert_exporter": "python",
   "pygments_lexer": "ipython3",
   "version": "3.8.5"
  }
 },
 "nbformat": 4,
 "nbformat_minor": 4
}
