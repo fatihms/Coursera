{
 "cells": [
  {
   "cell_type": "code",
   "execution_count": 1,
   "metadata": {},
   "outputs": [],
   "source": [
    "# Many-to-Many Relationships"
   ]
  },
  {
   "cell_type": "code",
   "execution_count": 2,
   "metadata": {},
   "outputs": [],
   "source": [
    "# Start with a Fresh Database"
   ]
  },
  {
   "cell_type": "code",
   "execution_count": 3,
   "metadata": {},
   "outputs": [],
   "source": [
    "# CREATE TABLE User (\n",
    "#     id INTEGER NOT NULL PROMARY KEY AUTOINCREMENT UNIQUE,\n",
    "#     name TEXT,\n",
    "#     email TEXT\n",
    "# )"
   ]
  },
  {
   "cell_type": "code",
   "execution_count": 4,
   "metadata": {},
   "outputs": [],
   "source": [
    "# CREATE TABLE Course (\n",
    "#     id INTEGER NOT NULL PROMARY KEY AUTOINCREMENT UNIQUE,\n",
    "#     title TEXT\n",
    "# )"
   ]
  },
  {
   "cell_type": "code",
   "execution_count": 5,
   "metadata": {},
   "outputs": [],
   "source": [
    "# CREATE TABLE Member (\n",
    "#     user_id INTEGER,\n",
    "#     course_id INTEGER,\n",
    "#    role INTEGER,\n",
    "#     PRIMARY KEY (user_id, course_id)\n",
    "# )"
   ]
  },
  {
   "cell_type": "code",
   "execution_count": 6,
   "metadata": {},
   "outputs": [],
   "source": [
    "# Insert Users and Courses"
   ]
  },
  {
   "cell_type": "code",
   "execution_count": 7,
   "metadata": {},
   "outputs": [],
   "source": [
    "# INSERT INTO User (name, email) VALUES ('Jane', 'jane@tsugi.org');\n",
    "# INSERT INTO User (name, email) VALUES ('Ed', 'ed@tsugi.org');\n",
    "# INSERT INTO User (name, email) VALUES ('Sue', 'sue@tsugi.org');\n",
    "\n",
    "# INSERT INTO Course (title) VALUES ('Python');\n",
    "# INSERT INTO Course (title) VALUES ('SQL');\n",
    "# INSERT INTO Course (title) VALUES ('PHP');"
   ]
  },
  {
   "cell_type": "code",
   "execution_count": 8,
   "metadata": {},
   "outputs": [],
   "source": [
    "# Insert Memberships"
   ]
  },
  {
   "cell_type": "code",
   "execution_count": null,
   "metadata": {},
   "outputs": [],
   "source": [
    "# INSERT INTO Member (user_id, course_id, role) VALUES (1, 1, 1);"
   ]
  },
  {
   "cell_type": "code",
   "execution_count": null,
   "metadata": {},
   "outputs": [],
   "source": [
    "# SELECT User.name, Member.role, Course.title\n",
    "# FROM User JOIN Member JOIN Course\n",
    "# ON Member.user_id = User.id AND Member.course_id = Course.id\n",
    "# ORDER BY Course.title, Member.role DESC, User.name"
   ]
  }
 ],
 "metadata": {
  "kernelspec": {
   "display_name": "Python 3",
   "language": "python",
   "name": "python3"
  },
  "language_info": {
   "codemirror_mode": {
    "name": "ipython",
    "version": 3
   },
   "file_extension": ".py",
   "mimetype": "text/x-python",
   "name": "python",
   "nbconvert_exporter": "python",
   "pygments_lexer": "ipython3",
   "version": "3.8.5"
  }
 },
 "nbformat": 4,
 "nbformat_minor": 4
}
